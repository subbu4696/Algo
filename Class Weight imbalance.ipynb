{
 "cells": [
  {
   "cell_type": "code",
   "execution_count": 189,
   "metadata": {},
   "outputs": [],
   "source": [
    "import pandas as pd\n",
    "import numpy as np\n",
    "from sklearn.datasets import make_classification\n",
    "from sklearn.linear_model import LogisticRegression\n",
    "import warnings\n",
    "from sklearn.metrics import f1_score,auc,roc_auc_score,roc_curve\n",
    "from sklearn.metrics import precision_score,recall_score,accuracy_score\n",
    "from sklearn.model_selection import GridSearchCV\n",
    "from sklearn.pipeline import Pipeline,FeatureUnion\n",
    "from sklearn.model_selection import train_test_split\n",
    "warnings.filterwarnings('ignore')\n",
    "from sklearn.preprocessing import MinMaxScaler\n",
    "from sklearn.metrics import confusion_matrix\n",
    "import seaborn as sns"
   ]
  },
  {
   "cell_type": "code",
   "execution_count": 149,
   "metadata": {},
   "outputs": [],
   "source": [
    "X,y = make_classification(n_samples=1000,n_features=6,n_informative=1,n_redundant=1,n_repeated=1,n_clusters_per_class=1,weights=[0.9,0.1])"
   ]
  },
  {
   "cell_type": "code",
   "execution_count": 150,
   "metadata": {},
   "outputs": [
    {
     "data": {
      "text/plain": [
       "(1000,)"
      ]
     },
     "execution_count": 150,
     "metadata": {},
     "output_type": "execute_result"
    }
   ],
   "source": [
    "y.shape"
   ]
  },
  {
   "cell_type": "code",
   "execution_count": 151,
   "metadata": {},
   "outputs": [
    {
     "data": {
      "text/plain": [
       "(1000, 7)"
      ]
     },
     "execution_count": 151,
     "metadata": {},
     "output_type": "execute_result"
    }
   ],
   "source": [
    "df = pd.DataFrame(np.c_[X,y])\n",
    "df.shape"
   ]
  },
  {
   "cell_type": "code",
   "execution_count": 152,
   "metadata": {},
   "outputs": [
    {
     "data": {
      "text/html": [
       "<div>\n",
       "<style scoped>\n",
       "    .dataframe tbody tr th:only-of-type {\n",
       "        vertical-align: middle;\n",
       "    }\n",
       "\n",
       "    .dataframe tbody tr th {\n",
       "        vertical-align: top;\n",
       "    }\n",
       "\n",
       "    .dataframe thead th {\n",
       "        text-align: right;\n",
       "    }\n",
       "</style>\n",
       "<table border=\"1\" class=\"dataframe\">\n",
       "  <thead>\n",
       "    <tr style=\"text-align: right;\">\n",
       "      <th></th>\n",
       "      <th>0</th>\n",
       "      <th>1</th>\n",
       "      <th>2</th>\n",
       "      <th>3</th>\n",
       "      <th>4</th>\n",
       "      <th>5</th>\n",
       "      <th>6</th>\n",
       "    </tr>\n",
       "  </thead>\n",
       "  <tbody>\n",
       "    <tr>\n",
       "      <th>0</th>\n",
       "      <td>1.989002</td>\n",
       "      <td>0.230493</td>\n",
       "      <td>1.586643</td>\n",
       "      <td>1.989002</td>\n",
       "      <td>-0.453819</td>\n",
       "      <td>-0.062240</td>\n",
       "      <td>1.0</td>\n",
       "    </tr>\n",
       "    <tr>\n",
       "      <th>1</th>\n",
       "      <td>-1.011417</td>\n",
       "      <td>-1.683465</td>\n",
       "      <td>-1.094271</td>\n",
       "      <td>-1.011417</td>\n",
       "      <td>-1.653308</td>\n",
       "      <td>0.031650</td>\n",
       "      <td>0.0</td>\n",
       "    </tr>\n",
       "    <tr>\n",
       "      <th>2</th>\n",
       "      <td>-1.219983</td>\n",
       "      <td>0.619952</td>\n",
       "      <td>0.409634</td>\n",
       "      <td>-1.219983</td>\n",
       "      <td>1.188522</td>\n",
       "      <td>0.038176</td>\n",
       "      <td>0.0</td>\n",
       "    </tr>\n",
       "    <tr>\n",
       "      <th>3</th>\n",
       "      <td>-0.772284</td>\n",
       "      <td>-1.278048</td>\n",
       "      <td>0.377953</td>\n",
       "      <td>-0.772284</td>\n",
       "      <td>0.661519</td>\n",
       "      <td>0.024167</td>\n",
       "      <td>0.0</td>\n",
       "    </tr>\n",
       "    <tr>\n",
       "      <th>4</th>\n",
       "      <td>-0.223312</td>\n",
       "      <td>0.565045</td>\n",
       "      <td>0.491333</td>\n",
       "      <td>-0.223312</td>\n",
       "      <td>0.328052</td>\n",
       "      <td>0.006988</td>\n",
       "      <td>0.0</td>\n",
       "    </tr>\n",
       "  </tbody>\n",
       "</table>\n",
       "</div>"
      ],
      "text/plain": [
       "          0         1         2         3         4         5    6\n",
       "0  1.989002  0.230493  1.586643  1.989002 -0.453819 -0.062240  1.0\n",
       "1 -1.011417 -1.683465 -1.094271 -1.011417 -1.653308  0.031650  0.0\n",
       "2 -1.219983  0.619952  0.409634 -1.219983  1.188522  0.038176  0.0\n",
       "3 -0.772284 -1.278048  0.377953 -0.772284  0.661519  0.024167  0.0\n",
       "4 -0.223312  0.565045  0.491333 -0.223312  0.328052  0.006988  0.0"
      ]
     },
     "execution_count": 152,
     "metadata": {},
     "output_type": "execute_result"
    }
   ],
   "source": [
    "df.head()"
   ]
  },
  {
   "cell_type": "code",
   "execution_count": 153,
   "metadata": {},
   "outputs": [
    {
     "data": {
      "text/plain": [
       "0.0    896\n",
       "1.0    104\n",
       "Name: 6, dtype: int64"
      ]
     },
     "execution_count": 153,
     "metadata": {},
     "output_type": "execute_result"
    }
   ],
   "source": [
    "df[6].value_counts()"
   ]
  },
  {
   "cell_type": "code",
   "execution_count": 154,
   "metadata": {},
   "outputs": [],
   "source": [
    "clf = LogisticRegression() "
   ]
  },
  {
   "cell_type": "code",
   "execution_count": 180,
   "metadata": {},
   "outputs": [],
   "source": [
    "X_train, X_test, Y_train, Y_test = train_test_split(X, y, \n",
    "                                                    test_size=0.33,\n",
    "                                                    stratify=y,\n",
    "                                                    random_state=42)"
   ]
  },
  {
   "cell_type": "code",
   "execution_count": 181,
   "metadata": {},
   "outputs": [
    {
     "data": {
      "text/plain": [
       "Pipeline(steps=[('scaler', MinMaxScaler()), ('logit', LogisticRegression())])"
      ]
     },
     "execution_count": 181,
     "metadata": {},
     "output_type": "execute_result"
    }
   ],
   "source": [
    "pipe1 = Pipeline([('scaler',MinMaxScaler()),('logit',LogisticRegression())])\n",
    "pipe1.fit(X_train,Y_train)"
   ]
  },
  {
   "cell_type": "code",
   "execution_count": 182,
   "metadata": {},
   "outputs": [],
   "source": [
    "pipe2 = Pipeline([('standard',MinMaxScaler())],verbose=True)"
   ]
  },
  {
   "cell_type": "code",
   "execution_count": 184,
   "metadata": {},
   "outputs": [
    {
     "name": "stdout",
     "output_type": "stream",
     "text": [
      "[Pipeline] .......... (step 1 of 1) Processing standard, total=   0.0s\n"
     ]
    }
   ],
   "source": [
    "X_test = pipe2.fit_transform(X_test)"
   ]
  },
  {
   "cell_type": "code",
   "execution_count": 188,
   "metadata": {},
   "outputs": [],
   "source": [
    "pred = pipe1.predict(X_test)"
   ]
  },
  {
   "cell_type": "code",
   "execution_count": 191,
   "metadata": {},
   "outputs": [
    {
     "data": {
      "text/plain": [
       "<AxesSubplot:>"
      ]
     },
     "execution_count": 191,
     "metadata": {},
     "output_type": "execute_result"
    },
    {
     "data": {
      "image/png": "[encoded data removed]",
      "text/plain": [
       "<Figure size 432x288 with 2 Axes>"
      ]
     },
     "metadata": {
      "needs_background": "light"
     },
     "output_type": "display_data"
    }
   ],
   "source": [
    "sns.heatmap(confusion_matrix(pred,Y_test),annot=True,fmt='.2f')"
   ]
  },
  {
   "cell_type": "markdown",
   "metadata": {},
   "source": [
    "# with balanced weights"
   ]
  },
  {
   "cell_type": "code",
   "execution_count": 196,
   "metadata": {},
   "outputs": [],
   "source": [
    "clf2 = LogisticRegression(class_weight='balanced')"
   ]
  },
  {
   "cell_type": "code",
   "execution_count": 209,
   "metadata": {},
   "outputs": [
    {
     "data": {
      "text/plain": [
       "Pipeline(steps=[('scaler', MinMaxScaler()),\n",
       "                ('logit', LogisticRegression(class_weight='balanced'))])"
      ]
     },
     "execution_count": 209,
     "metadata": {},
     "output_type": "execute_result"
    }
   ],
   "source": [
    "pipe3 = Pipeline([('scaler',MinMaxScaler()),('logit',clf2)])\n",
    "pipe3.fit(X_train,Y_train)"
   ]
  },
  {
   "cell_type": "code",
   "execution_count": 210,
   "metadata": {},
   "outputs": [
    {
     "data": {
      "text/plain": [
       "{'scaler': MinMaxScaler(),\n",
       " 'logit': LogisticRegression(class_weight='balanced')}"
      ]
     },
     "execution_count": 210,
     "metadata": {},
     "output_type": "execute_result"
    }
   ],
   "source": [
    "pipe3.named_steps"
   ]
  },
  {
   "cell_type": "code",
   "execution_count": 211,
   "metadata": {},
   "outputs": [
    {
     "data": {
      "text/plain": [
       "Pipeline(steps=[('scaler', MinMaxScaler()),\n",
       "                ('logit', LogisticRegression(class_weight='balanced'))])"
      ]
     },
     "execution_count": 211,
     "metadata": {},
     "output_type": "execute_result"
    }
   ],
   "source": [
    "pipe3.fit(X_train,Y_train)"
   ]
  },
  {
   "cell_type": "code",
   "execution_count": 212,
   "metadata": {},
   "outputs": [],
   "source": [
    "pred2 = pipe3.predict(X_test)"
   ]
  },
  {
   "cell_type": "code",
   "execution_count": 229,
   "metadata": {},
   "outputs": [
    {
     "data": {
      "text/plain": [
       "<AxesSubplot:>"
      ]
     },
     "execution_count": 229,
     "metadata": {},
     "output_type": "execute_result"
    },
    {
     "data": {
      "image/png": "[encoded data removed]",
      "text/plain": [
       "<Figure size 432x288 with 2 Axes>"
      ]
     },
     "metadata": {
      "needs_background": "light"
     },
     "output_type": "display_data"
    }
   ],
   "source": [
    "sns.heatmap(confusion_matrix(pred2,Y_test),annot=True,fmt='.2f')"
   ]
  },
  {
   "cell_type": "code",
   "execution_count": 234,
   "metadata": {},
   "outputs": [
    {
     "data": {
      "text/plain": [
       "0.1111111111111111"
      ]
     },
     "execution_count": 234,
     "metadata": {},
     "output_type": "execute_result"
    }
   ],
   "source": [
    "f1_score(pred2,Y_test)"
   ]
  },
  {
   "cell_type": "markdown",
   "metadata": {},
   "source": [
    "# With Manual Weights"
   ]
  },
  {
   "cell_type": "code",
   "execution_count": 222,
   "metadata": {},
   "outputs": [
    {
     "name": "stdout",
     "output_type": "stream",
     "text": [
      "Fitting 10 folds for each of 20 candidates, totalling 200 fits\n",
      "Best parameters : {'class_weight': {0: 0.23947368421052628, 1: 0.7605263157894737}}\n"
     ]
    }
   ],
   "source": [
    "weights = np.linspace(0.05, 0.95, 20)\n",
    "gsc = GridSearchCV(\n",
    "    estimator=LogisticRegression(),\n",
    "    param_grid={\n",
    "        'class_weight': [{0: x, 1: 1.0-x} for x in weights]\n",
    "    },\n",
    "    scoring='f1',\n",
    "    cv=10,\n",
    "    verbose=True\n",
    ")\n",
    "\n",
    "grid_result = gsc.fit(X_train, Y_train)\n",
    "print(\"Best parameters : %s\" % grid_result.best_params_)"
   ]
  },
  {
   "cell_type": "code",
   "execution_count": 223,
   "metadata": {},
   "outputs": [
    {
     "data": {
      "text/plain": [
       "{'mean_fit_time': array([0.00374379, 0.00335083, 0.00399666, 0.0040611 , 0.00413601,\n",
       "        0.00268927, 0.00376918, 0.0032953 , 0.00291083, 0.00438726,\n",
       "        0.00482662, 0.00369461, 0.00359344, 0.00417271, 0.00339606,\n",
       "        0.00279238, 0.00304892, 0.00339816, 0.00379632, 0.00435166]),\n",
       " 'std_fit_time': array([0.00074868, 0.000958  , 0.00044637, 0.00044156, 0.0006234 ,\n",
       "        0.00064243, 0.00038469, 0.00078252, 0.00094429, 0.00129471,\n",
       "        0.00062224, 0.00118546, 0.00066321, 0.00073057, 0.00091197,\n",
       "        0.00039901, 0.00016896, 0.00048363, 0.00060811, 0.00077247]),\n",
       " 'mean_score_time': array([0.00103624, 0.00106812, 0.0014308 , 0.00112514, 0.0013185 ,\n",
       "        0.00092306, 0.00123286, 0.00124745, 0.00091858, 0.001616  ,\n",
       "        0.00145769, 0.00109253, 0.00119383, 0.00111952, 0.0009973 ,\n",
       "        0.00069826, 0.00094106, 0.00059204, 0.00090654, 0.00100462]),\n",
       " 'std_score_time': array([3.53741382e-04, 3.26288156e-04, 4.62348557e-04, 3.69979958e-04,\n",
       "        4.47081446e-04, 3.16835762e-04, 3.96050550e-04, 3.82130971e-04,\n",
       "        3.34951610e-04, 1.25953191e-03, 5.48443736e-04, 3.00824905e-04,\n",
       "        4.10046618e-04, 2.97455632e-04, 2.61174468e-07, 4.57116293e-04,\n",
       "        1.69046791e-04, 4.83752305e-04, 3.02622835e-04, 4.46609550e-04]),\n",
       " 'param_class_weight': masked_array(data=[{0: 0.05, 1: 0.95},\n",
       "                    {0: 0.09736842105263158, 1: 0.9026315789473685},\n",
       "                    {0: 0.14473684210526316, 1: 0.8552631578947368},\n",
       "                    {0: 0.19210526315789472, 1: 0.8078947368421052},\n",
       "                    {0: 0.23947368421052628, 1: 0.7605263157894737},\n",
       "                    {0: 0.28684210526315784, 1: 0.7131578947368422},\n",
       "                    {0: 0.33421052631578946, 1: 0.6657894736842105},\n",
       "                    {0: 0.381578947368421, 1: 0.618421052631579},\n",
       "                    {0: 0.4289473684210526, 1: 0.5710526315789475},\n",
       "                    {0: 0.47631578947368414, 1: 0.5236842105263159},\n",
       "                    {0: 0.5236842105263158, 1: 0.47631578947368425},\n",
       "                    {0: 0.5710526315789474, 1: 0.42894736842105263},\n",
       "                    {0: 0.618421052631579, 1: 0.381578947368421},\n",
       "                    {0: 0.6657894736842105, 1: 0.3342105263157895},\n",
       "                    {0: 0.7131578947368421, 1: 0.2868421052631579},\n",
       "                    {0: 0.7605263157894736, 1: 0.2394736842105264},\n",
       "                    {0: 0.8078947368421052, 1: 0.19210526315789478},\n",
       "                    {0: 0.8552631578947368, 1: 0.14473684210526316},\n",
       "                    {0: 0.9026315789473683, 1: 0.09736842105263166},\n",
       "                    {0: 0.95, 1: 0.050000000000000044}],\n",
       "              mask=[False, False, False, False, False, False, False, False,\n",
       "                    False, False, False, False, False, False, False, False,\n",
       "                    False, False, False, False],\n",
       "        fill_value='?',\n",
       "             dtype=object),\n",
       " 'params': [{'class_weight': {0: 0.05, 1: 0.95}},\n",
       "  {'class_weight': {0: 0.09736842105263158, 1: 0.9026315789473685}},\n",
       "  {'class_weight': {0: 0.14473684210526316, 1: 0.8552631578947368}},\n",
       "  {'class_weight': {0: 0.19210526315789472, 1: 0.8078947368421052}},\n",
       "  {'class_weight': {0: 0.23947368421052628, 1: 0.7605263157894737}},\n",
       "  {'class_weight': {0: 0.28684210526315784, 1: 0.7131578947368422}},\n",
       "  {'class_weight': {0: 0.33421052631578946, 1: 0.6657894736842105}},\n",
       "  {'class_weight': {0: 0.381578947368421, 1: 0.618421052631579}},\n",
       "  {'class_weight': {0: 0.4289473684210526, 1: 0.5710526315789475}},\n",
       "  {'class_weight': {0: 0.47631578947368414, 1: 0.5236842105263159}},\n",
       "  {'class_weight': {0: 0.5236842105263158, 1: 0.47631578947368425}},\n",
       "  {'class_weight': {0: 0.5710526315789474, 1: 0.42894736842105263}},\n",
       "  {'class_weight': {0: 0.618421052631579, 1: 0.381578947368421}},\n",
       "  {'class_weight': {0: 0.6657894736842105, 1: 0.3342105263157895}},\n",
       "  {'class_weight': {0: 0.7131578947368421, 1: 0.2868421052631579}},\n",
       "  {'class_weight': {0: 0.7605263157894736, 1: 0.2394736842105264}},\n",
       "  {'class_weight': {0: 0.8078947368421052, 1: 0.19210526315789478}},\n",
       "  {'class_weight': {0: 0.8552631578947368, 1: 0.14473684210526316}},\n",
       "  {'class_weight': {0: 0.9026315789473683, 1: 0.09736842105263166}},\n",
       "  {'class_weight': {0: 0.95, 1: 0.050000000000000044}}],\n",
       " 'split0_test_score': array([0.46153846, 0.66666667, 0.70588235, 0.75      , 0.85714286,\n",
       "        0.83333333, 0.83333333, 0.83333333, 0.83333333, 0.83333333,\n",
       "        0.83333333, 0.83333333, 0.83333333, 0.83333333, 0.83333333,\n",
       "        0.83333333, 0.83333333, 0.83333333, 0.83333333, 0.6       ]),\n",
       " 'split1_test_score': array([0.66666667, 0.66666667, 0.625     , 0.71428571, 0.76923077,\n",
       "        0.76923077, 0.76923077, 0.76923077, 0.76923077, 0.83333333,\n",
       "        0.83333333, 0.83333333, 0.83333333, 0.83333333, 0.72727273,\n",
       "        0.72727273, 0.72727273, 0.44444444, 0.44444444, 0.25      ]),\n",
       " 'split2_test_score': array([0.63157895, 0.75      , 0.8       , 0.8       , 0.92307692,\n",
       "        0.92307692, 0.92307692, 0.92307692, 0.92307692, 0.92307692,\n",
       "        0.83333333, 0.83333333, 0.83333333, 0.72727273, 0.72727273,\n",
       "        0.72727273, 0.72727273, 0.72727273, 0.6       , 0.44444444]),\n",
       " 'split3_test_score': array([0.44444444, 0.53333333, 0.61538462, 0.61538462, 0.61538462,\n",
       "        0.61538462, 0.66666667, 0.66666667, 0.66666667, 0.66666667,\n",
       "        0.54545455, 0.6       , 0.6       , 0.6       , 0.6       ,\n",
       "        0.6       , 0.6       , 0.44444444, 0.25      , 0.25      ]),\n",
       " 'split4_test_score': array([0.73684211, 0.93333333, 1.        , 1.        , 1.        ,\n",
       "        0.92307692, 0.92307692, 0.92307692, 0.92307692, 0.83333333,\n",
       "        0.83333333, 0.83333333, 0.83333333, 0.83333333, 0.83333333,\n",
       "        0.83333333, 0.83333333, 0.72727273, 0.72727273, 0.72727273]),\n",
       " 'split5_test_score': array([0.63157895, 0.75      , 0.75      , 0.8       , 0.85714286,\n",
       "        0.85714286, 0.83333333, 0.83333333, 0.83333333, 0.83333333,\n",
       "        0.83333333, 0.83333333, 0.83333333, 0.83333333, 0.83333333,\n",
       "        0.83333333, 0.83333333, 0.83333333, 0.6       , 0.25      ]),\n",
       " 'split6_test_score': array([0.53846154, 0.7       , 0.77777778, 0.82352941, 0.93333333,\n",
       "        0.93333333, 1.        , 1.        , 1.        , 1.        ,\n",
       "        1.        , 0.92307692, 0.92307692, 0.92307692, 0.92307692,\n",
       "        0.92307692, 0.92307692, 0.92307692, 0.83333333, 0.72727273]),\n",
       " 'split7_test_score': array([0.58333333, 0.77777778, 0.82352941, 0.875     , 0.93333333,\n",
       "        0.93333333, 0.93333333, 0.85714286, 0.92307692, 0.92307692,\n",
       "        0.92307692, 0.83333333, 0.83333333, 0.83333333, 0.83333333,\n",
       "        0.83333333, 0.72727273, 0.72727273, 0.72727273, 0.25      ]),\n",
       " 'split8_test_score': array([0.7       , 0.93333333, 0.93333333, 0.93333333, 0.93333333,\n",
       "        0.93333333, 0.93333333, 1.        , 1.        , 1.        ,\n",
       "        0.92307692, 0.92307692, 0.92307692, 0.92307692, 0.92307692,\n",
       "        0.92307692, 0.92307692, 0.83333333, 0.83333333, 0.72727273]),\n",
       " 'split9_test_score': array([0.63636364, 0.77777778, 0.82352941, 0.8       , 0.8       ,\n",
       "        0.8       , 0.8       , 0.71428571, 0.71428571, 0.71428571,\n",
       "        0.76923077, 0.76923077, 0.76923077, 0.76923077, 0.76923077,\n",
       "        0.76923077, 0.83333333, 0.83333333, 0.72727273, 0.72727273]),\n",
       " 'mean_test_score': array([0.60308081, 0.74888889, 0.78544369, 0.81115331, 0.8621978 ,\n",
       "        0.85212454, 0.86153846, 0.85201465, 0.85860806, 0.85604396,\n",
       "        0.83275058, 0.82153846, 0.82153846, 0.8109324 , 0.80032634,\n",
       "        0.80032634, 0.79613054, 0.73271173, 0.65762626, 0.49535354]),\n",
       " 'std_test_score': array([0.09155652, 0.11492886, 0.11546687, 0.10326772, 0.10552525,\n",
       "        0.09791094, 0.09430182, 0.10714458, 0.10926501, 0.1041421 ,\n",
       "        0.11439648, 0.08559802, 0.08559802, 0.08994011, 0.09287868,\n",
       "        0.09287868, 0.09510959, 0.1558918 , 0.18039347, 0.21667535]),\n",
       " 'rank_test_score': array([19, 16, 15, 10,  1,  5,  2,  6,  3,  4,  7,  8,  8, 11, 12, 12, 14,\n",
       "        17, 18, 20])}"
      ]
     },
     "execution_count": 223,
     "metadata": {},
     "output_type": "execute_result"
    }
   ],
   "source": [
    "grid_result.cv_results_"
   ]
  },
  {
   "cell_type": "code",
   "execution_count": 224,
   "metadata": {},
   "outputs": [
    {
     "data": {
      "text/plain": [
       "LogisticRegression(class_weight={0: 0.23947368421052628, 1: 0.7605263157894737})"
      ]
     },
     "execution_count": 224,
     "metadata": {},
     "output_type": "execute_result"
    }
   ],
   "source": [
    "grid_result.best_estimator_"
   ]
  },
  {
   "cell_type": "code",
   "execution_count": 225,
   "metadata": {},
   "outputs": [],
   "source": [
    "clf3 = grid_result.best_estimator_"
   ]
  },
  {
   "cell_type": "code",
   "execution_count": 226,
   "metadata": {},
   "outputs": [],
   "source": [
    "X_train = MinMaxScaler().fit_transform(X_train)"
   ]
  },
  {
   "cell_type": "code",
   "execution_count": 227,
   "metadata": {},
   "outputs": [
    {
     "data": {
      "text/plain": [
       "LogisticRegression(class_weight={0: 0.23947368421052628, 1: 0.7605263157894737})"
      ]
     },
     "execution_count": 227,
     "metadata": {},
     "output_type": "execute_result"
    }
   ],
   "source": [
    "clf3.fit(X_train,Y_train)"
   ]
  },
  {
   "cell_type": "code",
   "execution_count": 231,
   "metadata": {},
   "outputs": [],
   "source": [
    "pred3 = clf3.predict(X_test)"
   ]
  },
  {
   "cell_type": "code",
   "execution_count": 232,
   "metadata": {},
   "outputs": [
    {
     "data": {
      "text/plain": [
       "<AxesSubplot:>"
      ]
     },
     "execution_count": 232,
     "metadata": {},
     "output_type": "execute_result"
    },
    {
     "data": {
      "image/png": "[encoded data removed]",
      "text/plain": [
       "<Figure size 432x288 with 2 Axes>"
      ]
     },
     "metadata": {
      "needs_background": "light"
     },
     "output_type": "display_data"
    }
   ],
   "source": [
    "sns.heatmap(confusion_matrix(pred3,Y_test),annot=True,fmt='.2f')"
   ]
  },
  {
   "cell_type": "code",
   "execution_count": 233,
   "metadata": {},
   "outputs": [
    {
     "data": {
      "text/plain": [
       "0.888888888888889"
      ]
     },
     "execution_count": 233,
     "metadata": {},
     "output_type": "execute_result"
    }
   ],
   "source": [
    "f1_score(pred3,Y_test)"
   ]
  },
  {
   "cell_type": "code",
   "execution_count": null,
   "metadata": {},
   "outputs": [],
   "source": []
  }
 ],
 "metadata": {
  "kernelspec": {
   "display_name": "Python 3",
   "language": "python",
   "name": "python3"
  },
  "language_info": {
   "codemirror_mode": {
    "name": "ipython",
    "version": 3
   },
   "file_extension": ".py",
   "mimetype": "text/x-python",
   "name": "python",
   "nbconvert_exporter": "python",
   "pygments_lexer": "ipython3",
   "version": "3.6.9"
  }
 },
 "nbformat": 4,
 "nbformat_minor": 4
}
