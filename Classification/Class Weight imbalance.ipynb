{
 "cells": [
  {
   "cell_type": "code",
   "execution_count": 69,
   "metadata": {},
   "outputs": [],
   "source": [
    "import pandas as pd\n",
    "import numpy as np\n",
    "from sklearn.datasets import make_classification\n",
    "from sklearn.linear_model import LogisticRegression\n",
    "import warnings\n",
    "from sklearn.metrics import f1_score,auc,roc_auc_score,roc_curve\n",
    "from sklearn.metrics import precision_score,recall_score,accuracy_score\n",
    "from sklearn.model_selection import GridSearchCV\n",
    "from sklearn.pipeline import Pipeline,FeatureUnion\n",
    "from sklearn.model_selection import train_test_split\n",
    "#warnings.filterwarnings('ignore')\n",
    "from sklearn.preprocessing import MinMaxScaler\n",
    "from sklearn.metrics import confusion_matrix\n",
    "import seaborn as sns"
   ]
  },
  {
   "cell_type": "code",
   "execution_count": 70,
   "metadata": {},
   "outputs": [],
   "source": [
    "X,y = make_classification(n_samples=1000,n_features=6,n_informative=1,n_redundant=1,n_repeated=1,n_clusters_per_class=1,weights=[0.9,0.1])"
   ]
  },
  {
   "cell_type": "code",
   "execution_count": 71,
   "metadata": {},
   "outputs": [
    {
     "data": {
      "text/plain": [
       "(1000,)"
      ]
     },
     "execution_count": 71,
     "metadata": {},
     "output_type": "execute_result"
    }
   ],
   "source": [
    "y.shape"
   ]
  },
  {
   "cell_type": "code",
   "execution_count": 72,
   "metadata": {},
   "outputs": [
    {
     "data": {
      "text/plain": [
       "(1000, 7)"
      ]
     },
     "execution_count": 72,
     "metadata": {},
     "output_type": "execute_result"
    }
   ],
   "source": [
    "df = pd.DataFrame(np.c_[X,y])\n",
    "df.shape"
   ]
  },
  {
   "cell_type": "code",
   "execution_count": 73,
   "metadata": {},
   "outputs": [
    {
     "data": {
      "text/html": [
       "<div>\n",
       "<style scoped>\n",
       "    .dataframe tbody tr th:only-of-type {\n",
       "        vertical-align: middle;\n",
       "    }\n",
       "\n",
       "    .dataframe tbody tr th {\n",
       "        vertical-align: top;\n",
       "    }\n",
       "\n",
       "    .dataframe thead th {\n",
       "        text-align: right;\n",
       "    }\n",
       "</style>\n",
       "<table border=\"1\" class=\"dataframe\">\n",
       "  <thead>\n",
       "    <tr style=\"text-align: right;\">\n",
       "      <th></th>\n",
       "      <th>0</th>\n",
       "      <th>1</th>\n",
       "      <th>2</th>\n",
       "      <th>3</th>\n",
       "      <th>4</th>\n",
       "      <th>5</th>\n",
       "      <th>6</th>\n",
       "    </tr>\n",
       "  </thead>\n",
       "  <tbody>\n",
       "    <tr>\n",
       "      <th>0</th>\n",
       "      <td>-1.493451</td>\n",
       "      <td>-0.002123</td>\n",
       "      <td>-0.289229</td>\n",
       "      <td>0.040070</td>\n",
       "      <td>-0.183321</td>\n",
       "      <td>0.040070</td>\n",
       "      <td>0.0</td>\n",
       "    </tr>\n",
       "    <tr>\n",
       "      <th>1</th>\n",
       "      <td>-1.523816</td>\n",
       "      <td>0.136555</td>\n",
       "      <td>1.428437</td>\n",
       "      <td>0.040885</td>\n",
       "      <td>1.585035</td>\n",
       "      <td>0.040885</td>\n",
       "      <td>0.0</td>\n",
       "    </tr>\n",
       "    <tr>\n",
       "      <th>2</th>\n",
       "      <td>-2.606182</td>\n",
       "      <td>0.741833</td>\n",
       "      <td>0.770677</td>\n",
       "      <td>0.069925</td>\n",
       "      <td>0.001981</td>\n",
       "      <td>0.069925</td>\n",
       "      <td>0.0</td>\n",
       "    </tr>\n",
       "    <tr>\n",
       "      <th>3</th>\n",
       "      <td>-1.180609</td>\n",
       "      <td>0.476479</td>\n",
       "      <td>-0.424807</td>\n",
       "      <td>0.031676</td>\n",
       "      <td>0.514107</td>\n",
       "      <td>0.031676</td>\n",
       "      <td>0.0</td>\n",
       "    </tr>\n",
       "    <tr>\n",
       "      <th>4</th>\n",
       "      <td>-1.503435</td>\n",
       "      <td>-2.362502</td>\n",
       "      <td>1.642244</td>\n",
       "      <td>0.040338</td>\n",
       "      <td>-0.299726</td>\n",
       "      <td>0.040338</td>\n",
       "      <td>0.0</td>\n",
       "    </tr>\n",
       "  </tbody>\n",
       "</table>\n",
       "</div>"
      ],
      "text/plain": [
       "          0         1         2         3         4         5    6\n",
       "0 -1.493451 -0.002123 -0.289229  0.040070 -0.183321  0.040070  0.0\n",
       "1 -1.523816  0.136555  1.428437  0.040885  1.585035  0.040885  0.0\n",
       "2 -2.606182  0.741833  0.770677  0.069925  0.001981  0.069925  0.0\n",
       "3 -1.180609  0.476479 -0.424807  0.031676  0.514107  0.031676  0.0\n",
       "4 -1.503435 -2.362502  1.642244  0.040338 -0.299726  0.040338  0.0"
      ]
     },
     "execution_count": 73,
     "metadata": {},
     "output_type": "execute_result"
    }
   ],
   "source": [
    "df.head()"
   ]
  },
  {
   "cell_type": "code",
   "execution_count": 74,
   "metadata": {},
   "outputs": [
    {
     "data": {
      "text/plain": [
       "0.0    896\n",
       "1.0    104\n",
       "Name: 6, dtype: int64"
      ]
     },
     "execution_count": 74,
     "metadata": {},
     "output_type": "execute_result"
    }
   ],
   "source": [
    "df[6].value_counts()"
   ]
  },
  {
   "cell_type": "code",
   "execution_count": 75,
   "metadata": {},
   "outputs": [],
   "source": [
    "clf = LogisticRegression() "
   ]
  },
  {
   "cell_type": "code",
   "execution_count": 76,
   "metadata": {},
   "outputs": [],
   "source": [
    "X_train, X_test, Y_train, Y_test = train_test_split(X, y, \n",
    "                                                    test_size=0.33,\n",
    "                                                    stratify=y,\n",
    "                                                    random_state=42)"
   ]
  },
  {
   "cell_type": "code",
   "execution_count": 77,
   "metadata": {},
   "outputs": [
    {
     "data": {
      "text/plain": [
       "Pipeline(steps=[('scaler', MinMaxScaler()), ('logit', LogisticRegression())])"
      ]
     },
     "execution_count": 77,
     "metadata": {},
     "output_type": "execute_result"
    }
   ],
   "source": [
    "pipe1 = Pipeline([('scaler',MinMaxScaler()),('logit',LogisticRegression())])\n",
    "pipe1.fit(X_train,Y_train)"
   ]
  },
  {
   "cell_type": "code",
   "execution_count": 78,
   "metadata": {},
   "outputs": [
    {
     "data": {
      "text/plain": [
       "array([[-0.57488712,  0.90534962, -0.11588085,  0.01542457, -0.58719344,\n",
       "         0.01542457],\n",
       "       [-1.36693679,  0.10999437,  0.66738919,  0.03667574, -0.49667355,\n",
       "         0.03667574],\n",
       "       [-0.81863595, -1.02940145,  0.97691288,  0.0219645 ,  1.23219055,\n",
       "         0.0219645 ],\n",
       "       [-1.35379597,  0.35259957, -0.2929031 ,  0.03632317, -0.4726427 ,\n",
       "         0.03632317],\n",
       "       [-2.74450862, -1.45450789,  0.06794195,  0.07363683, -1.39908968,\n",
       "         0.07363683]])"
      ]
     },
     "execution_count": 78,
     "metadata": {},
     "output_type": "execute_result"
    }
   ],
   "source": [
    "X_train[:5]"
   ]
  },
  {
   "cell_type": "code",
   "execution_count": 79,
   "metadata": {},
   "outputs": [],
   "source": [
    "pipe2 = Pipeline([('standard',MinMaxScaler())],verbose=True)"
   ]
  },
  {
   "cell_type": "code",
   "execution_count": 80,
   "metadata": {},
   "outputs": [
    {
     "name": "stdout",
     "output_type": "stream",
     "text": [
      "[Pipeline] .......... (step 1 of 1) Processing standard, total=   0.0s\n"
     ]
    }
   ],
   "source": [
    "X_test = pipe2.fit_transform(X_test)"
   ]
  },
  {
   "cell_type": "code",
   "execution_count": 81,
   "metadata": {},
   "outputs": [],
   "source": [
    "pred = pipe1.predict(X_test)"
   ]
  },
  {
   "cell_type": "code",
   "execution_count": 82,
   "metadata": {},
   "outputs": [
    {
     "data": {
      "text/plain": [
       "<AxesSubplot:>"
      ]
     },
     "execution_count": 82,
     "metadata": {},
     "output_type": "execute_result"
    },
    {
     "data": {
      "image/png": "[encoded data removed]",
      "text/plain": [
       "<Figure size 432x288 with 2 Axes>"
      ]
     },
     "metadata": {
      "needs_background": "light"
     },
     "output_type": "display_data"
    }
   ],
   "source": [
    "sns.heatmap(confusion_matrix(pred,Y_test),annot=True,fmt='.2f')"
   ]
  },
  {
   "cell_type": "code",
   "execution_count": 83,
   "metadata": {},
   "outputs": [
    {
     "data": {
      "text/plain": [
       "0.0"
      ]
     },
     "execution_count": 83,
     "metadata": {},
     "output_type": "execute_result"
    }
   ],
   "source": [
    "f1_score(Y_test,pred)"
   ]
  },
  {
   "cell_type": "markdown",
   "metadata": {},
   "source": [
    "# with balanced weights"
   ]
  },
  {
   "cell_type": "code",
   "execution_count": 84,
   "metadata": {},
   "outputs": [],
   "source": [
    "clf2 = LogisticRegression(class_weight='balanced')"
   ]
  },
  {
   "cell_type": "code",
   "execution_count": 85,
   "metadata": {},
   "outputs": [
    {
     "data": {
      "text/plain": [
       "Pipeline(steps=[('scaler', MinMaxScaler()),\n",
       "                ('logit', LogisticRegression(class_weight='balanced'))])"
      ]
     },
     "execution_count": 85,
     "metadata": {},
     "output_type": "execute_result"
    }
   ],
   "source": [
    "pipe3 = Pipeline([('scaler',MinMaxScaler()),('logit',clf2)])\n",
    "pipe3.fit(X_train,Y_train)"
   ]
  },
  {
   "cell_type": "code",
   "execution_count": 86,
   "metadata": {},
   "outputs": [
    {
     "data": {
      "text/plain": [
       "array([[-0.57488712,  0.90534962, -0.11588085,  0.01542457, -0.58719344,\n",
       "         0.01542457],\n",
       "       [-1.36693679,  0.10999437,  0.66738919,  0.03667574, -0.49667355,\n",
       "         0.03667574],\n",
       "       [-0.81863595, -1.02940145,  0.97691288,  0.0219645 ,  1.23219055,\n",
       "         0.0219645 ],\n",
       "       [-1.35379597,  0.35259957, -0.2929031 ,  0.03632317, -0.4726427 ,\n",
       "         0.03632317],\n",
       "       [-2.74450862, -1.45450789,  0.06794195,  0.07363683, -1.39908968,\n",
       "         0.07363683]])"
      ]
     },
     "execution_count": 86,
     "metadata": {},
     "output_type": "execute_result"
    }
   ],
   "source": [
    "X_train[:5]"
   ]
  },
  {
   "cell_type": "code",
   "execution_count": 87,
   "metadata": {},
   "outputs": [
    {
     "data": {
      "text/plain": [
       "{'scaler': MinMaxScaler(),\n",
       " 'logit': LogisticRegression(class_weight='balanced')}"
      ]
     },
     "execution_count": 87,
     "metadata": {},
     "output_type": "execute_result"
    }
   ],
   "source": [
    "pipe3.named_steps"
   ]
  },
  {
   "cell_type": "code",
   "execution_count": 88,
   "metadata": {},
   "outputs": [
    {
     "data": {
      "text/plain": [
       "Pipeline(steps=[('scaler', MinMaxScaler()),\n",
       "                ('logit', LogisticRegression(class_weight='balanced'))])"
      ]
     },
     "execution_count": 88,
     "metadata": {},
     "output_type": "execute_result"
    }
   ],
   "source": [
    "pipe3.fit(X_train,Y_train)"
   ]
  },
  {
   "cell_type": "code",
   "execution_count": 89,
   "metadata": {},
   "outputs": [],
   "source": [
    "pred2 = pipe3.predict(X_test)"
   ]
  },
  {
   "cell_type": "code",
   "execution_count": 90,
   "metadata": {},
   "outputs": [
    {
     "data": {
      "text/plain": [
       "<AxesSubplot:>"
      ]
     },
     "execution_count": 90,
     "metadata": {},
     "output_type": "execute_result"
    },
    {
     "data": {
      "image/png": "[encoded data removed]",
      "text/plain": [
       "<Figure size 432x288 with 2 Axes>"
      ]
     },
     "metadata": {
      "needs_background": "light"
     },
     "output_type": "display_data"
    }
   ],
   "source": [
    "sns.heatmap(confusion_matrix(pred2,Y_test),annot=True,fmt='.2f')"
   ]
  },
  {
   "cell_type": "code",
   "execution_count": 91,
   "metadata": {},
   "outputs": [
    {
     "data": {
      "text/plain": [
       "0.1111111111111111"
      ]
     },
     "execution_count": 91,
     "metadata": {},
     "output_type": "execute_result"
    }
   ],
   "source": [
    "f1_score(pred2,Y_test)"
   ]
  },
  {
   "cell_type": "markdown",
   "metadata": {},
   "source": [
    "# With Manual Weights"
   ]
  },
  {
   "cell_type": "code",
   "execution_count": 92,
   "metadata": {},
   "outputs": [
    {
     "name": "stdout",
     "output_type": "stream",
     "text": [
      "Fitting 10 folds for each of 20 candidates, totalling 200 fits\n",
      "Best parameters : {'class_weight': {0: 0.5236842105263158, 1: 0.47631578947368425}}\n"
     ]
    }
   ],
   "source": [
    "weights = np.linspace(0.05, 0.95, 20)\n",
    "gsc = GridSearchCV(\n",
    "    estimator=LogisticRegression(),\n",
    "    param_grid={\n",
    "        'class_weight': [{0: x, 1: 1.0-x} for x in weights]\n",
    "    },\n",
    "    scoring='f1',\n",
    "    cv=10,\n",
    "    verbose=True\n",
    ")\n",
    "\n",
    "grid_result = gsc.fit(X_train, Y_train)\n",
    "print(\"Best parameters : %s\" % grid_result.best_params_)"
   ]
  },
  {
   "cell_type": "code",
   "execution_count": 93,
   "metadata": {},
   "outputs": [
    {
     "data": {
      "text/plain": [
       "{'mean_fit_time': array([0.00775151, 0.00791128, 0.00762432, 0.00892942, 0.00879264,\n",
       "        0.00941997, 0.00698462, 0.0079634 , 0.00803299, 0.00749571,\n",
       "        0.00459273, 0.00648808, 0.00824769, 0.00630574, 0.00913951,\n",
       "        0.00903292, 0.0103663 , 0.00721154, 0.00936768, 0.00740924]),\n",
       " 'std_fit_time': array([0.00185931, 0.00185715, 0.00147872, 0.00068329, 0.00095102,\n",
       "        0.00136191, 0.00139139, 0.00087378, 0.00131666, 0.00128336,\n",
       "        0.00159314, 0.00081962, 0.00182006, 0.00147186, 0.00181218,\n",
       "        0.00169532, 0.00110985, 0.00039596, 0.0017522 , 0.00130125]),\n",
       " 'mean_score_time': array([0.00200868, 0.00238433, 0.00252409, 0.00249619, 0.00231636,\n",
       "        0.00259447, 0.00170767, 0.00188119, 0.00229411, 0.00198123,\n",
       "        0.00138755, 0.00180604, 0.00198605, 0.00148628, 0.00220287,\n",
       "        0.00247869, 0.00241299, 0.00169473, 0.00231376, 0.00179625]),\n",
       " 'std_score_time': array([0.00080332, 0.00093954, 0.00068995, 0.00051314, 0.00064114,\n",
       "        0.00068148, 0.00080558, 0.00068025, 0.00047386, 0.00070557,\n",
       "        0.00064115, 0.00059769, 0.00064627, 0.00052279, 0.00039931,\n",
       "        0.00049246, 0.00065012, 0.00045123, 0.00066842, 0.00059381]),\n",
       " 'param_class_weight': masked_array(data=[{0: 0.05, 1: 0.95},\n",
       "                    {0: 0.09736842105263158, 1: 0.9026315789473685},\n",
       "                    {0: 0.14473684210526316, 1: 0.8552631578947368},\n",
       "                    {0: 0.19210526315789472, 1: 0.8078947368421052},\n",
       "                    {0: 0.23947368421052628, 1: 0.7605263157894737},\n",
       "                    {0: 0.28684210526315784, 1: 0.7131578947368422},\n",
       "                    {0: 0.33421052631578946, 1: 0.6657894736842105},\n",
       "                    {0: 0.381578947368421, 1: 0.618421052631579},\n",
       "                    {0: 0.4289473684210526, 1: 0.5710526315789475},\n",
       "                    {0: 0.47631578947368414, 1: 0.5236842105263159},\n",
       "                    {0: 0.5236842105263158, 1: 0.47631578947368425},\n",
       "                    {0: 0.5710526315789474, 1: 0.42894736842105263},\n",
       "                    {0: 0.618421052631579, 1: 0.381578947368421},\n",
       "                    {0: 0.6657894736842105, 1: 0.3342105263157895},\n",
       "                    {0: 0.7131578947368421, 1: 0.2868421052631579},\n",
       "                    {0: 0.7605263157894736, 1: 0.2394736842105264},\n",
       "                    {0: 0.8078947368421052, 1: 0.19210526315789478},\n",
       "                    {0: 0.8552631578947368, 1: 0.14473684210526316},\n",
       "                    {0: 0.9026315789473683, 1: 0.09736842105263166},\n",
       "                    {0: 0.95, 1: 0.050000000000000044}],\n",
       "              mask=[False, False, False, False, False, False, False, False,\n",
       "                    False, False, False, False, False, False, False, False,\n",
       "                    False, False, False, False],\n",
       "        fill_value='?',\n",
       "             dtype=object),\n",
       " 'params': [{'class_weight': {0: 0.05, 1: 0.95}},\n",
       "  {'class_weight': {0: 0.09736842105263158, 1: 0.9026315789473685}},\n",
       "  {'class_weight': {0: 0.14473684210526316, 1: 0.8552631578947368}},\n",
       "  {'class_weight': {0: 0.19210526315789472, 1: 0.8078947368421052}},\n",
       "  {'class_weight': {0: 0.23947368421052628, 1: 0.7605263157894737}},\n",
       "  {'class_weight': {0: 0.28684210526315784, 1: 0.7131578947368422}},\n",
       "  {'class_weight': {0: 0.33421052631578946, 1: 0.6657894736842105}},\n",
       "  {'class_weight': {0: 0.381578947368421, 1: 0.618421052631579}},\n",
       "  {'class_weight': {0: 0.4289473684210526, 1: 0.5710526315789475}},\n",
       "  {'class_weight': {0: 0.47631578947368414, 1: 0.5236842105263159}},\n",
       "  {'class_weight': {0: 0.5236842105263158, 1: 0.47631578947368425}},\n",
       "  {'class_weight': {0: 0.5710526315789474, 1: 0.42894736842105263}},\n",
       "  {'class_weight': {0: 0.618421052631579, 1: 0.381578947368421}},\n",
       "  {'class_weight': {0: 0.6657894736842105, 1: 0.3342105263157895}},\n",
       "  {'class_weight': {0: 0.7131578947368421, 1: 0.2868421052631579}},\n",
       "  {'class_weight': {0: 0.7605263157894736, 1: 0.2394736842105264}},\n",
       "  {'class_weight': {0: 0.8078947368421052, 1: 0.19210526315789478}},\n",
       "  {'class_weight': {0: 0.8552631578947368, 1: 0.14473684210526316}},\n",
       "  {'class_weight': {0: 0.9026315789473683, 1: 0.09736842105263166}},\n",
       "  {'class_weight': {0: 0.95, 1: 0.050000000000000044}}],\n",
       " 'split0_test_score': array([0.66666667, 0.82352941, 0.93333333, 0.93333333, 0.93333333,\n",
       "        0.93333333, 0.93333333, 0.93333333, 0.93333333, 1.        ,\n",
       "        1.        , 0.92307692, 0.92307692, 0.92307692, 0.83333333,\n",
       "        0.72727273, 0.6       , 0.44444444, 0.25      , 0.        ]),\n",
       " 'split1_test_score': array([0.75      , 0.85714286, 0.85714286, 0.85714286, 0.85714286,\n",
       "        0.85714286, 0.85714286, 0.92307692, 0.92307692, 0.92307692,\n",
       "        0.92307692, 0.92307692, 0.92307692, 0.83333333, 0.83333333,\n",
       "        0.83333333, 0.72727273, 0.6       , 0.25      , 0.        ]),\n",
       " 'split2_test_score': array([0.73684211, 0.82352941, 0.93333333, 1.        , 1.        ,\n",
       "        1.        , 1.        , 1.        , 1.        , 1.        ,\n",
       "        1.        , 1.        , 1.        , 1.        , 0.92307692,\n",
       "        0.92307692, 0.92307692, 0.44444444, 0.25      , 0.        ]),\n",
       " 'split3_test_score': array([0.77777778, 0.77777778, 0.875     , 0.875     , 0.875     ,\n",
       "        0.875     , 0.875     , 0.875     , 0.875     , 0.875     ,\n",
       "        0.875     , 0.875     , 0.875     , 0.875     , 0.875     ,\n",
       "        0.875     , 0.8       , 0.61538462, 0.22222222, 0.        ]),\n",
       " 'split4_test_score': array([0.70588235, 0.8       , 0.8       , 0.8       , 0.8       ,\n",
       "        0.8       , 0.8       , 0.8       , 0.8       , 0.8       ,\n",
       "        0.85714286, 0.85714286, 0.85714286, 0.85714286, 0.76923077,\n",
       "        0.76923077, 0.54545455, 0.25      , 0.        , 0.        ]),\n",
       " 'split5_test_score': array([0.73684211, 0.875     , 0.93333333, 1.        , 1.        ,\n",
       "        1.        , 1.        , 1.        , 1.        , 1.        ,\n",
       "        1.        , 1.        , 1.        , 1.        , 1.        ,\n",
       "        1.        , 0.92307692, 0.25      , 0.        , 0.        ]),\n",
       " 'split6_test_score': array([0.7       , 0.93333333, 0.93333333, 0.93333333, 0.93333333,\n",
       "        0.93333333, 0.93333333, 1.        , 1.        , 1.        ,\n",
       "        1.        , 1.        , 1.        , 1.        , 0.92307692,\n",
       "        0.92307692, 0.83333333, 0.6       , 0.25      , 0.        ]),\n",
       " 'split7_test_score': array([0.7       , 0.77777778, 0.82352941, 0.93333333, 0.93333333,\n",
       "        0.93333333, 0.93333333, 0.93333333, 0.93333333, 0.93333333,\n",
       "        0.93333333, 0.93333333, 0.93333333, 0.85714286, 0.85714286,\n",
       "        0.85714286, 0.83333333, 0.6       , 0.6       , 0.        ]),\n",
       " 'split8_test_score': array([0.60869565, 0.73684211, 0.82352941, 0.875     , 0.93333333,\n",
       "        1.        , 1.        , 1.        , 1.        , 1.        ,\n",
       "        1.        , 1.        , 1.        , 1.        , 0.92307692,\n",
       "        0.72727273, 0.6       , 0.25      , 0.25      , 0.        ]),\n",
       " 'split9_test_score': array([0.73684211, 0.875     , 0.875     , 0.93333333, 0.93333333,\n",
       "        0.93333333, 0.93333333, 0.93333333, 0.93333333, 0.93333333,\n",
       "        1.        , 1.        , 0.83333333, 0.83333333, 0.72727273,\n",
       "        0.72727273, 0.6       , 0.44444444, 0.        , 0.        ]),\n",
       " 'mean_test_score': array([0.71195488, 0.82799327, 0.8787535 , 0.91404762, 0.91988095,\n",
       "        0.92654762, 0.92654762, 0.93980769, 0.93980769, 0.94647436,\n",
       "        0.95885531, 0.951163  , 0.93449634, 0.91790293, 0.86645438,\n",
       "        0.8362679 , 0.73855478, 0.44987179, 0.20722222, 0.        ]),\n",
       " 'std_test_score': array([0.04546912, 0.05526364, 0.04971171, 0.05963038, 0.05836503,\n",
       "        0.06313352, 0.06313352, 0.06216458, 0.06216458, 0.06463831,\n",
       "        0.05428251, 0.05334923, 0.06097738, 0.07107373, 0.07657054,\n",
       "        0.0916287 , 0.13595792, 0.14660986, 0.17101819, 0.        ]),\n",
       " 'rank_test_score': array([17, 15, 12, 11,  9,  7,  7,  4,  4,  3,  1,  2,  6, 10, 13, 14, 16,\n",
       "        18, 19, 20])}"
      ]
     },
     "execution_count": 93,
     "metadata": {},
     "output_type": "execute_result"
    }
   ],
   "source": [
    "grid_result.cv_results_"
   ]
  },
  {
   "cell_type": "code",
   "execution_count": 94,
   "metadata": {},
   "outputs": [
    {
     "data": {
      "text/plain": [
       "LogisticRegression(class_weight={0: 0.5236842105263158, 1: 0.47631578947368425})"
      ]
     },
     "execution_count": 94,
     "metadata": {},
     "output_type": "execute_result"
    }
   ],
   "source": [
    "grid_result.best_estimator_"
   ]
  },
  {
   "cell_type": "code",
   "execution_count": 95,
   "metadata": {},
   "outputs": [],
   "source": [
    "clf3 = grid_result.best_estimator_"
   ]
  },
  {
   "cell_type": "code",
   "execution_count": 96,
   "metadata": {},
   "outputs": [],
   "source": [
    "X_train = MinMaxScaler().fit_transform(X_train)"
   ]
  },
  {
   "cell_type": "code",
   "execution_count": 97,
   "metadata": {},
   "outputs": [
    {
     "data": {
      "text/plain": [
       "LogisticRegression(class_weight={0: 0.5236842105263158, 1: 0.47631578947368425})"
      ]
     },
     "execution_count": 97,
     "metadata": {},
     "output_type": "execute_result"
    }
   ],
   "source": [
    "clf3.fit(X_train,Y_train)"
   ]
  },
  {
   "cell_type": "code",
   "execution_count": 98,
   "metadata": {},
   "outputs": [],
   "source": [
    "pred3 = clf3.predict(X_test)"
   ]
  },
  {
   "cell_type": "code",
   "execution_count": 99,
   "metadata": {},
   "outputs": [
    {
     "data": {
      "text/plain": [
       "<AxesSubplot:>"
      ]
     },
     "execution_count": 99,
     "metadata": {},
     "output_type": "execute_result"
    },
    {
     "data": {
      "image/png": "[encoded data removed]",
      "text/plain": [
       "<Figure size 432x288 with 2 Axes>"
      ]
     },
     "metadata": {
      "needs_background": "light"
     },
     "output_type": "display_data"
    }
   ],
   "source": [
    "sns.heatmap(confusion_matrix(pred3,Y_test),annot=True,fmt='.2f')"
   ]
  },
  {
   "cell_type": "code",
   "execution_count": 100,
   "metadata": {},
   "outputs": [
    {
     "data": {
      "text/plain": [
       "0.955223880597015"
      ]
     },
     "execution_count": 100,
     "metadata": {},
     "output_type": "execute_result"
    }
   ],
   "source": [
    "f1_score(pred3,Y_test)"
   ]
  },
  {
   "cell_type": "code",
   "execution_count": null,
   "metadata": {},
   "outputs": [],
   "source": []
  }
 ],
 "metadata": {
  "kernelspec": {
   "display_name": "Python 3",
   "language": "python",
   "name": "python3"
  },
  "language_info": {
   "codemirror_mode": {
    "name": "ipython",
    "version": 3
   },
   "file_extension": ".py",
   "mimetype": "text/x-python",
   "name": "python",
   "nbconvert_exporter": "python",
   "pygments_lexer": "ipython3",
   "version": "3.6.9"
  }
 },
 "nbformat": 4,
 "nbformat_minor": 4
}
