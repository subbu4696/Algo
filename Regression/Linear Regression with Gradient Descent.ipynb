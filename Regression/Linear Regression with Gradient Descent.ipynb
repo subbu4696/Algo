{
 "cells": [
  {
   "cell_type": "markdown",
   "metadata": {},
   "source": [
    "#### Gradient descent is an iterative  approach of minimizing function and this algorithm is used in linear regression to minimize the loss function. In this approach parameter are thrown to function initially and updated untill the function achieved the minimum with updated parameters.\n",
    "#### consider th loss function as\n",
    "### $$W=1/n\\sum_{i=1}^n(y_i-p_i)^2$$ \n",
    "#### p is line equation that need to fit the input to give the best predicted output with minimum error from actual output\n",
    "### $$ p=mx+c$$\n",
    "#### m and c are parameters that needed to be find using gradient descent which fits the loss function to minimum.\n",
    "####  $\\alpha$ is the  learning rate is used to update the parameter. $\\alpha$ is key parameter that decides performance of model. This decides how much parameters should be updated in the process of achieving function minimum. parameters are updated as following.\n",
    "$$\\begin {array} {c}\n",
    "m_{new}=m_{old}-\\alpha \\frac{\\partial W}{\\partial m}\\cr\n",
    "c_{new}=c_{old}-\\alpha \\frac{\\partial W}{\\partial c}\\cr\n",
    "\\end{array}\n",
    "$$\n",
    "#### on iterative update of parameters , loss funnction reaches to minimum.\n",
    "#### partial derivative of loss function:\n",
    "$$\\begin {array} {c}\n",
    "\\frac{\\partial W}{\\partial m}=1/n \\sum_{i=1}^n 2(y_i-(mx_i+c))(-x_i)=-2/n \\sum_{i=1}^n x_i(y_i-mx_i-c) \\cr\n",
    "= -2/n \\sum_{i=1}^n x_i(y_i-p_i) \\cr\n",
    "\\end{array}\n",
    "$$\n",
    "\n",
    "$$\\begin {array} {c}\n",
    "\\frac{\\partial W}{\\partial c} =1/n \\sum_{i=1}^n 2(y_i-(mx_i-c))=-2/n \\sum_{i=1}^n (y_i-p_i)\n",
    "\\end{array}\n",
    "$$"
   ]
  },
  {
   "cell_type": "code",
   "execution_count": 1,
   "metadata": {},
   "outputs": [],
   "source": [
    "#importing packages\n",
    "import numpy as np\n",
    "import pandas as pd\n",
    "import matplotlib.pyplot as plt\n",
    "plt.rcParams['figure.figsize']= (8.0,6.0)"
   ]
  },
  {
   "cell_type": "code",
   "execution_count": 2,
   "metadata": {},
   "outputs": [
    {
     "data": {
      "text/html": [
       "<div>\n",
       "<style scoped>\n",
       "    .dataframe tbody tr th:only-of-type {\n",
       "        vertical-align: middle;\n",
       "    }\n",
       "\n",
       "    .dataframe tbody tr th {\n",
       "        vertical-align: top;\n",
       "    }\n",
       "\n",
       "    .dataframe thead th {\n",
       "        text-align: right;\n",
       "    }\n",
       "</style>\n",
       "<table border=\"1\" class=\"dataframe\">\n",
       "  <thead>\n",
       "    <tr style=\"text-align: right;\">\n",
       "      <th></th>\n",
       "      <th>X</th>\n",
       "      <th>Y</th>\n",
       "    </tr>\n",
       "  </thead>\n",
       "  <tbody>\n",
       "    <tr>\n",
       "      <td>0</td>\n",
       "      <td>7</td>\n",
       "      <td>120</td>\n",
       "    </tr>\n",
       "    <tr>\n",
       "      <td>1</td>\n",
       "      <td>11</td>\n",
       "      <td>110</td>\n",
       "    </tr>\n",
       "    <tr>\n",
       "      <td>2</td>\n",
       "      <td>15</td>\n",
       "      <td>190</td>\n",
       "    </tr>\n",
       "    <tr>\n",
       "      <td>3</td>\n",
       "      <td>19</td>\n",
       "      <td>170</td>\n",
       "    </tr>\n",
       "    <tr>\n",
       "      <td>4</td>\n",
       "      <td>23</td>\n",
       "      <td>150</td>\n",
       "    </tr>\n",
       "  </tbody>\n",
       "</table>\n",
       "</div>"
      ],
      "text/plain": [
       "    X    Y\n",
       "0   7  120\n",
       "1  11  110\n",
       "2  15  190\n",
       "3  19  170\n",
       "4  23  150"
      ]
     },
     "execution_count": 2,
     "metadata": {},
     "output_type": "execute_result"
    }
   ],
   "source": [
    "#importing data\n",
    "df=pd.read_csv('simpledata.csv')\n",
    "df.head()"
   ]
  },
  {
   "cell_type": "code",
   "execution_count": 3,
   "metadata": {},
   "outputs": [
    {
     "data": {
      "text/plain": [
       "<matplotlib.collections.PathCollection at 0x189f979e808>"
      ]
     },
     "execution_count": 3,
     "metadata": {},
     "output_type": "execute_result"
    },
    {
     "data": {
      "image/png": "[encoded data removed]",
      "text/plain": [
       "<Figure size 432x288 with 1 Axes>"
      ]
     },
     "metadata": {
      "needs_background": "light"
     },
     "output_type": "display_data"
    }
   ],
   "source": [
    "X=df['X']\n",
    "Y=df['Y']\n",
    "plt.scatter(X,Y)"
   ]
  },
  {
   "cell_type": "code",
   "execution_count": 51,
   "metadata": {},
   "outputs": [],
   "source": [
    "#implemeting gradient descent\n",
    "def gradientDescent(x,y,alpha,iterations):\n",
    "    m = 0\n",
    "    c = 0 #initializing parameters\n",
    "    n = float(len(x))\n",
    "    iterations = iterations\n",
    "    alpha = alpha#learning rate\n",
    "    \n",
    "    for i in range(iterations):\n",
    "        p = m*x+c\n",
    "        dm = (-2/n) * sum(x * (y - p)) # partial derivate w.r.t m\n",
    "        dc = (-2/n) * sum(y-p) # partial derivative w.r.t c\n",
    "        m = m-alpha*dm #updating m\n",
    "        c = c-alpha*dc #updating c\n",
    "        \n",
    "    return m,c"
   ]
  },
  {
   "cell_type": "code",
   "execution_count": 54,
   "metadata": {},
   "outputs": [
    {
     "name": "stdout",
     "output_type": "stream",
     "text": [
      "2.9523624983407775 125.48510581713907\n"
     ]
    },
    {
     "data": {
      "image/png": "[encoded data removed]",
      "text/plain": [
       "<Figure size 432x288 with 1 Axes>"
      ]
     },
     "metadata": {
      "needs_background": "light"
     },
     "output_type": "display_data"
    }
   ],
   "source": [
    "parameters = gradientDescent(X,Y,0.0001,1000000)\n",
    "m = parameters[0]\n",
    "c = parameters[1]\n",
    "print(m,c)\n",
    "Y_pred = m*X+c\n",
    "\n",
    "plt.scatter(X,Y)\n",
    "plt.plot(X,Y_pred,color='r')\n",
    "plt.show()"
   ]
  },
  {
   "cell_type": "code",
   "execution_count": null,
   "metadata": {},
   "outputs": [],
   "source": []
  }
 ],
 "metadata": {
  "kernelspec": {
   "display_name": "Python 3",
   "language": "python",
   "name": "python3"
  },
  "language_info": {
   "codemirror_mode": {
    "name": "ipython",
    "version": 3
   },
   "file_extension": ".py",
   "mimetype": "text/x-python",
   "name": "python",
   "nbconvert_exporter": "python",
   "pygments_lexer": "ipython3",
   "version": "3.6.9"
  }
 },
 "nbformat": 4,
 "nbformat_minor": 2
}
