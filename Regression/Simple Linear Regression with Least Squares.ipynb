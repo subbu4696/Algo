{
 "cells": [
  {
   "cell_type": "code",
   "execution_count": 1,
   "metadata": {},
   "outputs": [],
   "source": [
    "#import required packages\n",
    "\n",
    "import numpy as np\n",
    "import pandas as pd\n",
    "import matplotlib.pyplot as plt\n",
    "plt.rcParams['figure.figsize'] = (10.0, 7.0)"
   ]
  },
  {
   "cell_type": "markdown",
   "metadata": {},
   "source": [
    "#### In linear  regression we define a linear relation between dependent and independent variable in the form of linear equation like\n",
    "### $$y=mx+c$$\n",
    "#### to fit the best linear equation with variables m and c, the loss function should be minimized  and the loss function is given below\n",
    "### $$W=\\sum_{i=1}^n(y_i-p_i)^2$$ \n",
    "#### p is predicted output and y is given output from dataset with respect to x as input.\n",
    "### $$ p=mx+c $$\n",
    "#### to minimize the loss function we have to differntiate the loss function with respect to m and c and find them by equate those to 0.\n",
    "#### solving c:\n",
    "$$\\begin{array}{c}\n",
    "\\frac{\\partial W}{\\partial c}=\\sum_{i=1}^n -2(y_i-c-mx)=0 \\cr\n",
    "as  \\sum_{i=1}^n y_i=Ny_{mean} \\cr \n",
    " Nc=Ny_{mean}- Nmx_{mean} \\cr\n",
    " c= y_{mean}-mx_{mean}\n",
    " \\end{array}\n",
    "$$\n",
    "#### solving m:\n",
    "$$\\begin {array} {c}\n",
    "\\frac {\\partial W}{\\partial m}=\\sum_{i=1}^n x_iy_i -cx_i-mx_i^2=0\\cr\n",
    "(substituting c) \\sum _{i=1}^n x_iy_i-(y_{mean}-mx_{mean})x_i-mx_i^2=0\\cr\n",
    "\\sum_{i=1}^n x_iy_i-y_{mean}\\sum_{i=1}^n x_i +m x_{mean}\\sum_{i=1}^n x_i -m \\sum_{i=1}^n x_i^2=0\\cr\n",
    "as  \\sum_{i=1}^n y_i=Ny_{mean} \\cr \n",
    "m=\\frac{\\sum_{i=1}^n x_iy_i -Nx_{mean}y_{mean}}{\\sum_{i=1}^n x_i^2-Nx_{mean}^2}\\cr\n",
    "m=\\frac{\\sum_{i=1}^n(x_i-x_{mean})(y_i-y_{mean})}{\\sum_{i=1}^n(x_i-x_{mean})^2}\n",
    "\\end{array}\n",
    "$$\n"
   ]
  },
  {
   "cell_type": "code",
   "execution_count": 2,
   "metadata": {},
   "outputs": [
    {
     "data": {
      "text/html": [
       "<div>\n",
       "<style scoped>\n",
       "    .dataframe tbody tr th:only-of-type {\n",
       "        vertical-align: middle;\n",
       "    }\n",
       "\n",
       "    .dataframe tbody tr th {\n",
       "        vertical-align: top;\n",
       "    }\n",
       "\n",
       "    .dataframe thead th {\n",
       "        text-align: right;\n",
       "    }\n",
       "</style>\n",
       "<table border=\"1\" class=\"dataframe\">\n",
       "  <thead>\n",
       "    <tr style=\"text-align: right;\">\n",
       "      <th></th>\n",
       "      <th>X</th>\n",
       "      <th>Y</th>\n",
       "    </tr>\n",
       "  </thead>\n",
       "  <tbody>\n",
       "    <tr>\n",
       "      <td>0</td>\n",
       "      <td>7</td>\n",
       "      <td>120</td>\n",
       "    </tr>\n",
       "    <tr>\n",
       "      <td>1</td>\n",
       "      <td>11</td>\n",
       "      <td>110</td>\n",
       "    </tr>\n",
       "    <tr>\n",
       "      <td>2</td>\n",
       "      <td>15</td>\n",
       "      <td>190</td>\n",
       "    </tr>\n",
       "    <tr>\n",
       "      <td>3</td>\n",
       "      <td>19</td>\n",
       "      <td>170</td>\n",
       "    </tr>\n",
       "    <tr>\n",
       "      <td>4</td>\n",
       "      <td>23</td>\n",
       "      <td>150</td>\n",
       "    </tr>\n",
       "  </tbody>\n",
       "</table>\n",
       "</div>"
      ],
      "text/plain": [
       "    X    Y\n",
       "0   7  120\n",
       "1  11  110\n",
       "2  15  190\n",
       "3  19  170\n",
       "4  23  150"
      ]
     },
     "execution_count": 2,
     "metadata": {},
     "output_type": "execute_result"
    }
   ],
   "source": [
    "#importing data\n",
    "df=pd.read_csv(\"simpledata.csv\")\n",
    "df.head()"
   ]
  },
  {
   "cell_type": "code",
   "execution_count": 3,
   "metadata": {},
   "outputs": [
    {
     "data": {
      "text/plain": [
       "<matplotlib.collections.PathCollection at 0x1bde63cd548>"
      ]
     },
     "execution_count": 3,
     "metadata": {},
     "output_type": "execute_result"
    },
    {
     "data": {
      "image/png": "[encoded data removed]",
      "text/plain": [
       "<Figure size 432x288 with 1 Axes>"
      ]
     },
     "metadata": {
      "needs_background": "light"
     },
     "output_type": "display_data"
    }
   ],
   "source": [
    "x=df['X']\n",
    "y=df['Y']\n",
    "plt.scatter(x,y)"
   ]
  },
  {
   "cell_type": "code",
   "execution_count": 4,
   "metadata": {},
   "outputs": [],
   "source": [
    "def olsRegressor(x,y):\n",
    "    x_mean=np.mean(x)\n",
    "    y_mean=np.mean(y)\n",
    "    numerator=0\n",
    "    denominator=0\n",
    "    for i in range(len(x)):\n",
    "        numerator+=(x[i]-x_mean)*(y[i]-y_mean)\n",
    "        denominator+=(x[i]-x_mean)**2\n",
    "    m=numerator/denominator\n",
    "    c=y_mean-m*x_mean\n",
    "    return m,c\n",
    "    \n"
   ]
  },
  {
   "cell_type": "code",
   "execution_count": 7,
   "metadata": {},
   "outputs": [
    {
     "ename": "SyntaxError",
     "evalue": "invalid syntax (<ipython-input-7-ac3e88adcc71>, line 2)",
     "output_type": "error",
     "traceback": [
      "\u001b[1;36m  File \u001b[1;32m\"<ipython-input-7-ac3e88adcc71>\"\u001b[1;36m, line \u001b[1;32m2\u001b[0m\n\u001b[1;33m    print('m='{0},'c='{1},parameters[0],parameters[1])\u001b[0m\n\u001b[1;37m              ^\u001b[0m\n\u001b[1;31mSyntaxError\u001b[0m\u001b[1;31m:\u001b[0m invalid syntax\n"
     ]
    }
   ],
   "source": [
    "parameters=olsRegressor(x,y)\n",
    "print('m='{0},'c='{1},parameters[0],parameters[1])\n"
   ]
  },
  {
   "cell_type": "code",
   "execution_count": null,
   "metadata": {},
   "outputs": [],
   "source": [
    "y_pred=parameters[0]*x+parameters[1]"
   ]
  },
  {
   "cell_type": "code",
   "execution_count": 6,
   "metadata": {},
   "outputs": [
    {
     "data": {
      "text/plain": [
       "[<matplotlib.lines.Line2D at 0x1bde68924c8>]"
      ]
     },
     "execution_count": 6,
     "metadata": {},
     "output_type": "execute_result"
    },
    {
     "data": {
      "image/png": "[encoded data removed]",
      "text/plain": [
       "<Figure size 432x288 with 1 Axes>"
      ]
     },
     "metadata": {
      "needs_background": "light"
     },
     "output_type": "display_data"
    }
   ],
   "source": [
    "plt.scatter(x,y)\n",
    "plt.plot(x,y_pred,color='red')"
   ]
  },
  {
   "cell_type": "code",
   "execution_count": null,
   "metadata": {},
   "outputs": [],
   "source": []
  }
 ],
 "metadata": {
  "kernelspec": {
   "display_name": "Python 3",
   "language": "python",
   "name": "python3"
  },
  "language_info": {
   "codemirror_mode": {
    "name": "ipython",
    "version": 3
   },
   "file_extension": ".py",
   "mimetype": "text/x-python",
   "name": "python",
   "nbconvert_exporter": "python",
   "pygments_lexer": "ipython3",
   "version": "3.7.4"
  }
 },
 "nbformat": 4,
 "nbformat_minor": 2
}
