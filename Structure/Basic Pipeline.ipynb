{
 "cells": [
  {
   "cell_type": "code",
   "execution_count": 47,
   "metadata": {},
   "outputs": [],
   "source": [
    "from sklearn.pipeline import Pipeline\n",
    "from sklearn.datasets import make_regression\n",
    "from sklearn.datasets import make_classification\n",
    "import pandas as pd\n",
    "import warnings\n",
    "warnings.filterwarnings('ignore')\n",
    "import numpy as np\n",
    "from sklearn.pipeline import FeatureUnion\n",
    "import seaborn as sns"
   ]
  },
  {
   "cell_type": "code",
   "execution_count": 22,
   "metadata": {},
   "outputs": [],
   "source": [
    "ds = make_regression(n_samples=100,n_targets=1,n_features=2)"
   ]
  },
  {
   "cell_type": "code",
   "execution_count": 23,
   "metadata": {},
   "outputs": [
    {
     "data": {
      "text/plain": [
       "array([ 4.02159430e-01,  2.17591791e-02, -2.66415637e-02, -9.02647971e-01,\n",
       "        1.54033462e+00,  1.25442048e-01,  8.90818776e-01,  1.21781143e+00,\n",
       "        2.29659796e-01,  7.80185681e-01, -2.42227274e-01, -1.33257517e+00,\n",
       "        2.19951280e-01,  3.43644490e-01,  7.35519478e-02,  5.11097406e-01,\n",
       "        7.86918407e-01,  1.87960810e+00,  2.74552127e-01,  1.24569438e-01,\n",
       "        6.84606176e-01, -1.06670767e+00,  1.03101200e+00,  8.46741108e-01,\n",
       "       -1.45994345e-02, -7.04283924e-01,  9.42816435e-01, -6.84589632e-01,\n",
       "       -1.94702789e-01, -6.88684386e-01, -2.39592650e+00,  8.29441748e-01,\n",
       "        2.42287245e-01,  1.35251758e-01,  3.10797124e-01,  4.64451235e-01,\n",
       "        7.42926798e-02, -7.53452355e-01, -6.01733323e-01,  1.79663278e+00,\n",
       "        9.52940838e-02,  2.93785101e-01, -1.86169782e-01,  6.41632171e-01,\n",
       "       -1.53421562e+00,  1.15231788e-01,  5.82159768e-01, -7.59446100e-01,\n",
       "       -1.00657560e+00, -1.13214004e+00, -9.23187074e-01, -1.40664477e+00,\n",
       "        1.54447256e+00, -3.78232214e-01, -6.06416468e-01, -6.36797813e-02,\n",
       "        2.70866683e-01,  7.26668410e-01, -3.69619360e-01,  1.24920000e-01,\n",
       "       -1.22369309e+00, -1.41662231e+00,  4.92521325e-01,  1.28180402e+00,\n",
       "        9.41193040e-01,  1.23068611e+00, -1.05788127e-01,  4.31558594e-01,\n",
       "       -9.26929573e-01, -1.94903330e+00, -9.19469455e-01, -1.09381005e-01,\n",
       "        5.01077060e-01,  1.95593065e+00,  2.24673953e-01,  2.65722289e-01,\n",
       "        1.27251816e+00,  1.24560032e+00,  3.36810078e-04,  1.15496194e+00,\n",
       "        3.76733139e-01, -1.39979055e+00, -7.09826978e-01, -8.88115862e-01,\n",
       "        1.10679226e+00, -8.11726478e-01,  6.95973739e-01, -2.58875892e-01,\n",
       "        4.29643241e-01,  8.77600166e-01,  7.40369484e-01, -2.49341916e+00,\n",
       "       -1.80596095e+00, -6.69932894e-01, -3.49485715e-01,  1.07309742e+00,\n",
       "       -3.93076497e-03, -9.74187272e-02, -1.72433711e+00, -3.98395558e-01])"
      ]
     },
     "execution_count": 23,
     "metadata": {},
     "output_type": "execute_result"
    }
   ],
   "source": [
    "ds[0][:,0]"
   ]
  },
  {
   "cell_type": "code",
   "execution_count": 24,
   "metadata": {},
   "outputs": [
    {
     "data": {
      "text/html": [
       "<div>\n",
       "<style scoped>\n",
       "    .dataframe tbody tr th:only-of-type {\n",
       "        vertical-align: middle;\n",
       "    }\n",
       "\n",
       "    .dataframe tbody tr th {\n",
       "        vertical-align: top;\n",
       "    }\n",
       "\n",
       "    .dataframe thead th {\n",
       "        text-align: right;\n",
       "    }\n",
       "</style>\n",
       "<table border=\"1\" class=\"dataframe\">\n",
       "  <thead>\n",
       "    <tr style=\"text-align: right;\">\n",
       "      <th></th>\n",
       "      <th>A</th>\n",
       "      <th>B</th>\n",
       "      <th>Y</th>\n",
       "    </tr>\n",
       "  </thead>\n",
       "  <tbody>\n",
       "    <tr>\n",
       "      <th>0</th>\n",
       "      <td>0.402159</td>\n",
       "      <td>0.507931</td>\n",
       "      <td>53.064925</td>\n",
       "    </tr>\n",
       "    <tr>\n",
       "      <th>1</th>\n",
       "      <td>0.021759</td>\n",
       "      <td>0.222165</td>\n",
       "      <td>10.147773</td>\n",
       "    </tr>\n",
       "    <tr>\n",
       "      <th>2</th>\n",
       "      <td>-0.026642</td>\n",
       "      <td>-1.022875</td>\n",
       "      <td>-40.489518</td>\n",
       "    </tr>\n",
       "    <tr>\n",
       "      <th>3</th>\n",
       "      <td>-0.902648</td>\n",
       "      <td>-0.649848</td>\n",
       "      <td>-100.782045</td>\n",
       "    </tr>\n",
       "    <tr>\n",
       "      <th>4</th>\n",
       "      <td>1.540335</td>\n",
       "      <td>-0.918463</td>\n",
       "      <td>96.202804</td>\n",
       "    </tr>\n",
       "  </tbody>\n",
       "</table>\n",
       "</div>"
      ],
      "text/plain": [
       "          A         B           Y\n",
       "0  0.402159  0.507931   53.064925\n",
       "1  0.021759  0.222165   10.147773\n",
       "2 -0.026642 -1.022875  -40.489518\n",
       "3 -0.902648 -0.649848 -100.782045\n",
       "4  1.540335 -0.918463   96.202804"
      ]
     },
     "execution_count": 24,
     "metadata": {},
     "output_type": "execute_result"
    }
   ],
   "source": [
    "df = pd.DataFrame({'A':list(ds[0][:,0]),'B':list(ds[0][:,1]),'Y':list(ds[1])})\n",
    "df.head()"
   ]
  },
  {
   "cell_type": "code",
   "execution_count": 25,
   "metadata": {},
   "outputs": [],
   "source": [
    "X = df[['A','B']]\n",
    "y = df['Y']"
   ]
  },
  {
   "cell_type": "code",
   "execution_count": 26,
   "metadata": {},
   "outputs": [],
   "source": [
    "from sklearn.linear_model import LinearRegression\n",
    "from sklearn.model_selection import train_test_split\n",
    "from sklearn.preprocessing import StandardScaler\n",
    "from sklearn.preprocessing import MinMaxScaler\n",
    "from sklearn.decomposition import PCA\n",
    "from sklearn.metrics import r2_score,accuracy_score,mean_squared_error"
   ]
  },
  {
   "cell_type": "code",
   "execution_count": 27,
   "metadata": {},
   "outputs": [],
   "source": [
    "x_train,x_test,y_train,y_test = train_test_split(X,y,test_size=0.3)"
   ]
  },
  {
   "cell_type": "code",
   "execution_count": 28,
   "metadata": {},
   "outputs": [],
   "source": [
    "pipe = Pipeline([('min',MinMaxScaler()),('lr',LinearRegression())],verbose=True)"
   ]
  },
  {
   "cell_type": "code",
   "execution_count": 29,
   "metadata": {},
   "outputs": [
    {
     "name": "stdout",
     "output_type": "stream",
     "text": [
      "[Pipeline] ............... (step 1 of 2) Processing min, total=   0.0s\n",
      "[Pipeline] ................ (step 2 of 2) Processing lr, total=   0.0s\n"
     ]
    },
    {
     "data": {
      "text/plain": [
       "Pipeline(steps=[('min', MinMaxScaler()), ('lr', LinearRegression())],\n",
       "         verbose=True)"
      ]
     },
     "execution_count": 29,
     "metadata": {},
     "output_type": "execute_result"
    }
   ],
   "source": [
    "pipe.fit(x_train,y_train)"
   ]
  },
  {
   "cell_type": "code",
   "execution_count": 30,
   "metadata": {},
   "outputs": [],
   "source": [
    "pipe2 = Pipeline([('standard',MinMaxScaler())],verbose=True)"
   ]
  },
  {
   "cell_type": "code",
   "execution_count": 31,
   "metadata": {},
   "outputs": [
    {
     "name": "stdout",
     "output_type": "stream",
     "text": [
      "[Pipeline] .......... (step 1 of 1) Processing standard, total=   0.0s\n"
     ]
    }
   ],
   "source": [
    "x_test = pipe2.fit_transform(x_test)"
   ]
  },
  {
   "cell_type": "code",
   "execution_count": 32,
   "metadata": {},
   "outputs": [
    {
     "data": {
      "text/plain": [
       "array([[0.47356419, 0.64110559],\n",
       "       [0.47243108, 0.79219431],\n",
       "       [0.45284977, 0.87364098],\n",
       "       [0.96927858, 0.25376285],\n",
       "       [0.70043216, 0.85259453],\n",
       "       [0.7389796 , 0.95955905],\n",
       "       [0.85245049, 0.57119382],\n",
       "       [0.61148782, 0.55431081],\n",
       "       [0.64538347, 0.        ],\n",
       "       [0.85559614, 0.31569668],\n",
       "       [1.        , 0.31988798],\n",
       "       [0.66309825, 0.8502843 ],\n",
       "       [0.2709948 , 0.78379935],\n",
       "       [0.72387036, 0.387191  ],\n",
       "       [0.16325632, 0.58230032],\n",
       "       [0.66902629, 0.62517169],\n",
       "       [0.38446366, 0.36401065],\n",
       "       [0.63373117, 0.42229563],\n",
       "       [0.86788141, 0.44957768],\n",
       "       [0.68356345, 0.48857085],\n",
       "       [0.72655692, 0.1722997 ],\n",
       "       [0.        , 0.6024868 ],\n",
       "       [0.76725532, 0.58281207],\n",
       "       [0.40753908, 0.54948709],\n",
       "       [0.6977176 , 0.67078793],\n",
       "       [0.40856783, 0.89328841],\n",
       "       [0.72517723, 0.54554363],\n",
       "       [0.55276032, 0.53101291],\n",
       "       [0.74430179, 0.37535497],\n",
       "       [0.6948922 , 1.        ]])"
      ]
     },
     "execution_count": 32,
     "metadata": {},
     "output_type": "execute_result"
    }
   ],
   "source": [
    "x_test"
   ]
  },
  {
   "cell_type": "code",
   "execution_count": 33,
   "metadata": {},
   "outputs": [],
   "source": [
    "pred = pipe.predict(x_test)"
   ]
  },
  {
   "cell_type": "code",
   "execution_count": 34,
   "metadata": {},
   "outputs": [
    {
     "data": {
      "text/plain": [
       "10549.706575017057"
      ]
     },
     "execution_count": 34,
     "metadata": {},
     "output_type": "execute_result"
    }
   ],
   "source": [
    "mean_squared_error(y_test,pred)"
   ]
  },
  {
   "cell_type": "code",
   "execution_count": 35,
   "metadata": {},
   "outputs": [
    {
     "data": {
      "text/plain": [
       "{'memory': None,\n",
       " 'steps': [('min', MinMaxScaler()), ('lr', LinearRegression())],\n",
       " 'verbose': True,\n",
       " 'min': MinMaxScaler(),\n",
       " 'lr': LinearRegression(),\n",
       " 'min__clip': False,\n",
       " 'min__copy': True,\n",
       " 'min__feature_range': (0, 1),\n",
       " 'lr__copy_X': True,\n",
       " 'lr__fit_intercept': True,\n",
       " 'lr__n_jobs': None,\n",
       " 'lr__normalize': False,\n",
       " 'lr__positive': False}"
      ]
     },
     "execution_count": 35,
     "metadata": {},
     "output_type": "execute_result"
    }
   ],
   "source": [
    "pipe.get_params()"
   ]
  },
  {
   "cell_type": "code",
   "execution_count": 36,
   "metadata": {},
   "outputs": [
    {
     "data": {
      "text/plain": [
       "{'min': MinMaxScaler(), 'lr': LinearRegression()}"
      ]
     },
     "execution_count": 36,
     "metadata": {},
     "output_type": "execute_result"
    }
   ],
   "source": [
    "pipe.named_steps"
   ]
  },
  {
   "cell_type": "code",
   "execution_count": 37,
   "metadata": {},
   "outputs": [
    {
     "data": {
      "text/plain": [
       "{'standard': MinMaxScaler()}"
      ]
     },
     "execution_count": 37,
     "metadata": {},
     "output_type": "execute_result"
    }
   ],
   "source": [
    "pipe2.named_steps"
   ]
  },
  {
   "cell_type": "code",
   "execution_count": 45,
   "metadata": {},
   "outputs": [
    {
     "data": {
      "text/plain": [
       "<AxesSubplot:xlabel='Y', ylabel='Density'>"
      ]
     },
     "execution_count": 45,
     "metadata": {},
     "output_type": "execute_result"
    },
    {
     "data": {
      "image/png": "[encoded data removed]",
      "text/plain": [
       "<Figure size 432x288 with 1 Axes>"
      ]
     },
     "metadata": {
      "needs_background": "light"
     },
     "output_type": "display_data"
    }
   ],
   "source": [
    "sns.distplot(pred-y_test)"
   ]
  },
  {
   "cell_type": "code",
   "execution_count": 63,
   "metadata": {},
   "outputs": [],
   "source": [
    "url = \"https://raw.githubusercontent.com/jbrownlee/Datasets/master/pima-indians-diabetes.data.csv\"\n",
    "names = ['preg', 'plas', 'pres', 'skin', 'test', 'mass', 'pedi', 'age', 'class']\n",
    "dataframe = pd.read_csv(url, names=names)"
   ]
  },
  {
   "cell_type": "code",
   "execution_count": 61,
   "metadata": {},
   "outputs": [
    {
     "data": {
      "text/plain": [
       "100"
      ]
     },
     "execution_count": 61,
     "metadata": {},
     "output_type": "execute_result"
    }
   ],
   "source": [
    "\n",
    "X = array[:,0:8]\n",
    "Y = array[:,8]"
   ]
  },
  {
   "cell_type": "code",
   "execution_count": null,
   "metadata": {},
   "outputs": [],
   "source": []
  }
 ],
 "metadata": {
  "kernelspec": {
   "display_name": "Python 3",
   "language": "python",
   "name": "python3"
  },
  "language_info": {
   "codemirror_mode": {
    "name": "ipython",
    "version": 3
   },
   "file_extension": ".py",
   "mimetype": "text/x-python",
   "name": "python",
   "nbconvert_exporter": "python",
   "pygments_lexer": "ipython3",
   "version": "3.6.9"
  }
 },
 "nbformat": 4,
 "nbformat_minor": 4
}
